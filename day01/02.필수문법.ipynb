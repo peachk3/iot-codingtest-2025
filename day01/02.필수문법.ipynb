{
 "cells": [
  {
   "cell_type": "code",
   "execution_count": null,
   "id": "c16ea50a",
   "metadata": {},
   "outputs": [],
   "source": [
    "# 정수형\n",
    "a=13\n",
    "b=4"
   ]
  },
  {
   "cell_type": "code",
   "execution_count": 16,
   "id": "10d91e05",
   "metadata": {},
   "outputs": [
    {
     "data": {
      "text/plain": [
       "17"
      ]
     },
     "execution_count": 16,
     "metadata": {},
     "output_type": "execute_result"
    }
   ],
   "source": [
    "a + b"
   ]
  },
  {
   "cell_type": "code",
   "execution_count": 17,
   "id": "d6d59c0d",
   "metadata": {},
   "outputs": [
    {
     "data": {
      "text/plain": [
       "9"
      ]
     },
     "execution_count": 17,
     "metadata": {},
     "output_type": "execute_result"
    }
   ],
   "source": [
    "a - b"
   ]
  },
  {
   "cell_type": "code",
   "execution_count": 18,
   "id": "86681c1b",
   "metadata": {},
   "outputs": [
    {
     "data": {
      "text/plain": [
       "1"
      ]
     },
     "execution_count": 18,
     "metadata": {},
     "output_type": "execute_result"
    }
   ],
   "source": [
    "a % b"
   ]
  },
  {
   "cell_type": "code",
   "execution_count": 19,
   "id": "2aa21bee",
   "metadata": {},
   "outputs": [
    {
     "data": {
      "text/plain": [
       "3.25"
      ]
     },
     "execution_count": 19,
     "metadata": {},
     "output_type": "execute_result"
    }
   ],
   "source": [
    "a / b"
   ]
  },
  {
   "cell_type": "code",
   "execution_count": 20,
   "id": "3cf62aad",
   "metadata": {},
   "outputs": [
    {
     "data": {
      "text/plain": [
       "3"
      ]
     },
     "execution_count": 20,
     "metadata": {},
     "output_type": "execute_result"
    }
   ],
   "source": [
    "a // b"
   ]
  },
  {
   "cell_type": "code",
   "execution_count": 21,
   "id": "f4573ed4",
   "metadata": {},
   "outputs": [
    {
     "data": {
      "text/plain": [
       "True"
      ]
     },
     "execution_count": 21,
     "metadata": {},
     "output_type": "execute_result"
    }
   ],
   "source": [
    "a > b"
   ]
  },
  {
   "cell_type": "code",
   "execution_count": 22,
   "id": "ef0e2d66",
   "metadata": {},
   "outputs": [
    {
     "data": {
      "text/plain": [
       "False"
      ]
     },
     "execution_count": 22,
     "metadata": {},
     "output_type": "execute_result"
    }
   ],
   "source": [
    "a == b"
   ]
  },
  {
   "cell_type": "code",
   "execution_count": 23,
   "id": "9bab1638",
   "metadata": {},
   "outputs": [
    {
     "data": {
      "text/plain": [
       "28561"
      ]
     },
     "execution_count": 23,
     "metadata": {},
     "output_type": "execute_result"
    }
   ],
   "source": [
    "a ** b"
   ]
  },
  {
   "cell_type": "code",
   "execution_count": 24,
   "id": "abb07588",
   "metadata": {},
   "outputs": [
    {
     "data": {
      "text/plain": [
       "True"
      ]
     },
     "execution_count": 24,
     "metadata": {},
     "output_type": "execute_result"
    }
   ],
   "source": [
    "a != b"
   ]
  },
  {
   "cell_type": "code",
   "execution_count": 26,
   "id": "f8e825d2",
   "metadata": {},
   "outputs": [
    {
     "data": {
      "text/plain": [
       "4"
      ]
     },
     "execution_count": 26,
     "metadata": {},
     "output_type": "execute_result"
    }
   ],
   "source": [
    "## 정수형 비트 연산\n",
    "## 13 -> 1101 / 4 -> 0100\n",
    "a & b # 0100"
   ]
  },
  {
   "cell_type": "code",
   "execution_count": 28,
   "id": "95a84034",
   "metadata": {},
   "outputs": [
    {
     "data": {
      "text/plain": [
       "13"
      ]
     },
     "execution_count": 28,
     "metadata": {},
     "output_type": "execute_result"
    }
   ],
   "source": [
    "a | b"
   ]
  },
  {
   "cell_type": "code",
   "execution_count": 29,
   "id": "93a6c063",
   "metadata": {},
   "outputs": [
    {
     "data": {
      "text/plain": [
       "9"
      ]
     },
     "execution_count": 29,
     "metadata": {},
     "output_type": "execute_result"
    }
   ],
   "source": [
    "a ^ b"
   ]
  },
  {
   "cell_type": "code",
   "execution_count": 30,
   "id": "6c4551fa",
   "metadata": {},
   "outputs": [
    {
     "data": {
      "text/plain": [
       "-14"
      ]
     },
     "execution_count": 30,
     "metadata": {},
     "output_type": "execute_result"
    }
   ],
   "source": [
    "~a"
   ]
  },
  {
   "cell_type": "code",
   "execution_count": 31,
   "id": "912cbec0",
   "metadata": {},
   "outputs": [
    {
     "data": {
      "text/plain": [
       "52"
      ]
     },
     "execution_count": 31,
     "metadata": {},
     "output_type": "execute_result"
    }
   ],
   "source": [
    "a << 2"
   ]
  },
  {
   "cell_type": "code",
   "execution_count": 32,
   "id": "a4823a68",
   "metadata": {},
   "outputs": [
    {
     "data": {
      "text/plain": [
       "3"
      ]
     },
     "execution_count": 32,
     "metadata": {},
     "output_type": "execute_result"
    }
   ],
   "source": [
    "a >> 2"
   ]
  },
  {
   "cell_type": "code",
   "execution_count": 34,
   "id": "845a0411",
   "metadata": {},
   "outputs": [
    {
     "data": {
      "text/plain": [
       "True"
      ]
     },
     "execution_count": 34,
     "metadata": {},
     "output_type": "execute_result"
    }
   ],
   "source": [
    "(a > b) and (a != b)"
   ]
  },
  {
   "cell_type": "code",
   "execution_count": 35,
   "id": "d66e3f2f",
   "metadata": {},
   "outputs": [
    {
     "data": {
      "text/plain": [
       "False"
      ]
     },
     "execution_count": 35,
     "metadata": {},
     "output_type": "execute_result"
    }
   ],
   "source": [
    "not a"
   ]
  },
  {
   "cell_type": "code",
   "execution_count": 36,
   "id": "66085022",
   "metadata": {},
   "outputs": [
    {
     "data": {
      "text/plain": [
       "True"
      ]
     },
     "execution_count": 36,
     "metadata": {},
     "output_type": "execute_result"
    }
   ],
   "source": [
    "not 0"
   ]
  },
  {
   "cell_type": "code",
   "execution_count": 38,
   "id": "f4421452",
   "metadata": {},
   "outputs": [
    {
     "data": {
      "text/plain": [
       "6.2"
      ]
     },
     "execution_count": 38,
     "metadata": {},
     "output_type": "execute_result"
    }
   ],
   "source": [
    "## 부동소수형\n",
    "2.5 + 3.7"
   ]
  },
  {
   "cell_type": "code",
   "execution_count": 39,
   "id": "e8ea5736",
   "metadata": {},
   "outputs": [
    {
     "data": {
      "text/plain": [
       "3.1562499999999996"
      ]
     },
     "execution_count": 39,
     "metadata": {},
     "output_type": "execute_result"
    }
   ],
   "source": [
    "10.1 / 3.2"
   ]
  },
  {
   "cell_type": "code",
   "execution_count": 40,
   "id": "84e40e72",
   "metadata": {},
   "outputs": [
    {
     "data": {
      "text/plain": [
       "3.0"
      ]
     },
     "execution_count": 40,
     "metadata": {},
     "output_type": "execute_result"
    }
   ],
   "source": [
    "10.1 // 3.2"
   ]
  },
  {
   "cell_type": "markdown",
   "id": "4b2101a3",
   "metadata": {},
   "source": [
    "### 엡실론을 포함한 연산\n",
    "- 0.1을 3번 더한 값을 0.3으로 빼면?"
   ]
  },
  {
   "cell_type": "code",
   "execution_count": 41,
   "id": "6af44420",
   "metadata": {},
   "outputs": [],
   "source": [
    "c = 0.1"
   ]
  },
  {
   "cell_type": "code",
   "execution_count": 42,
   "id": "d4aada31",
   "metadata": {},
   "outputs": [],
   "source": [
    "sum = c + c + c"
   ]
  },
  {
   "cell_type": "code",
   "execution_count": 43,
   "id": "833b1c4e",
   "metadata": {},
   "outputs": [
    {
     "data": {
      "text/plain": [
       "5.551115123125783e-17"
      ]
     },
     "execution_count": 43,
     "metadata": {},
     "output_type": "execute_result"
    }
   ],
   "source": [
    "sum - 0.3"
   ]
  },
  {
   "cell_type": "code",
   "execution_count": null,
   "id": "a59dd504",
   "metadata": {},
   "outputs": [
    {
     "data": {
      "text/plain": [
       "2.220446049250313e-16"
      ]
     },
     "execution_count": 46,
     "metadata": {},
     "output_type": "execute_result"
    }
   ],
   "source": [
    "import sys\n",
    "\n",
    "# 엡실론 출력\n",
    "sys.float_info.epsilon\n",
    "# 0.0000000000000002220446049250313"
   ]
  },
  {
   "cell_type": "code",
   "execution_count": 51,
   "id": "ca3100c6",
   "metadata": {},
   "outputs": [],
   "source": [
    "d = 0.1 + 0.1 + 0.1\n",
    "e = 0.3"
   ]
  },
  {
   "cell_type": "code",
   "execution_count": 52,
   "id": "df1b908b",
   "metadata": {},
   "outputs": [
    {
     "data": {
      "text/plain": [
       "5.551115123125783e-17"
      ]
     },
     "execution_count": 52,
     "metadata": {},
     "output_type": "execute_result"
    }
   ],
   "source": [
    "d - e   # 0.00000000000000005551115123125783의 오차"
   ]
  },
  {
   "cell_type": "code",
   "execution_count": 53,
   "id": "6ec7040d",
   "metadata": {},
   "outputs": [
    {
     "name": "stdout",
     "output_type": "stream",
     "text": [
      "동일 수\n"
     ]
    }
   ],
   "source": [
    "if abs(d - e) < sys.float_info.epsilon:\n",
    "    print(\"동일 수\")\n",
    "else:\n",
    "    print(\"다른 수\")"
   ]
  },
  {
   "cell_type": "markdown",
   "id": "46b557b6",
   "metadata": {},
   "source": [
    "## 컬렉션\n",
    "\n",
    "- 리스트, 튜플, 딕셔너리, 셋, 문자열 등\n",
    "- Mutable : 변경할 수 있는 객체\n",
    "- Immutable : 변경할 수 있는 객체, 문자열, 튜플"
   ]
  },
  {
   "cell_type": "markdown",
   "id": "bc137010",
   "metadata": {},
   "source": [
    "### 뮤터블"
   ]
  },
  {
   "cell_type": "code",
   "execution_count": 54,
   "id": "831f82e0",
   "metadata": {},
   "outputs": [
    {
     "data": {
      "text/plain": [
       "7"
      ]
     },
     "execution_count": 54,
     "metadata": {},
     "output_type": "execute_result"
    }
   ],
   "source": [
    "nlist = [1,3,5,7,9]\n",
    "nlist[3]"
   ]
  },
  {
   "cell_type": "code",
   "execution_count": 55,
   "id": "a534167f",
   "metadata": {},
   "outputs": [
    {
     "data": {
      "text/plain": [
       "[1, 3, 5, 7, 9]"
      ]
     },
     "execution_count": 55,
     "metadata": {},
     "output_type": "execute_result"
    }
   ],
   "source": [
    "nlist"
   ]
  },
  {
   "cell_type": "markdown",
   "id": "f788dc67",
   "metadata": {},
   "source": [
    "#### 이뮤터블"
   ]
  },
  {
   "cell_type": "code",
   "execution_count": 56,
   "id": "e52f3158",
   "metadata": {},
   "outputs": [
    {
     "data": {
      "text/plain": [
       "7"
      ]
     },
     "execution_count": 56,
     "metadata": {},
     "output_type": "execute_result"
    }
   ],
   "source": [
    "ntuple = (1, 3, 5, 7, 9)\n",
    "ntuple[3]"
   ]
  },
  {
   "cell_type": "code",
   "execution_count": 65,
   "id": "da71008c",
   "metadata": {},
   "outputs": [
    {
     "ename": "TypeError",
     "evalue": "'tuple' object does not support item assignment",
     "output_type": "error",
     "traceback": [
      "\u001b[1;31m---------------------------------------------------------------------------\u001b[0m",
      "\u001b[1;31mTypeError\u001b[0m                                 Traceback (most recent call last)",
      "Cell \u001b[1;32mIn[65], line 1\u001b[0m\n\u001b[1;32m----> 1\u001b[0m \u001b[43mntuple\u001b[49m\u001b[43m[\u001b[49m\u001b[38;5;241;43m3\u001b[39;49m\u001b[43m]\u001b[49m \u001b[38;5;241m=\u001b[39m \u001b[38;5;241m8\u001b[39m   \u001b[38;5;66;03m# 튜플은 값을 리스트처럼 변경할 수 없음\u001b[39;00m\n",
      "\u001b[1;31mTypeError\u001b[0m: 'tuple' object does not support item assignment"
     ]
    }
   ],
   "source": [
    "ntuple[3] = 8   # 튜플은 값을 리스트처럼 변경할 수 없음"
   ]
  },
  {
   "cell_type": "code",
   "execution_count": 58,
   "id": "70b30b00",
   "metadata": {},
   "outputs": [],
   "source": [
    "a = 4"
   ]
  },
  {
   "cell_type": "code",
   "execution_count": 59,
   "id": "3d85245f",
   "metadata": {},
   "outputs": [],
   "source": [
    "b = a"
   ]
  },
  {
   "cell_type": "code",
   "execution_count": 60,
   "id": "eba5ee4f",
   "metadata": {},
   "outputs": [
    {
     "data": {
      "text/plain": [
       "4"
      ]
     },
     "execution_count": 60,
     "metadata": {},
     "output_type": "execute_result"
    }
   ],
   "source": [
    "b"
   ]
  },
  {
   "cell_type": "code",
   "execution_count": 61,
   "id": "e06e137f",
   "metadata": {},
   "outputs": [],
   "source": [
    "b += 2"
   ]
  },
  {
   "cell_type": "code",
   "execution_count": 62,
   "id": "23b9bfd5",
   "metadata": {},
   "outputs": [
    {
     "data": {
      "text/plain": [
       "6"
      ]
     },
     "execution_count": 62,
     "metadata": {},
     "output_type": "execute_result"
    }
   ],
   "source": [
    "b"
   ]
  },
  {
   "cell_type": "code",
   "execution_count": 63,
   "id": "dd36f8e3",
   "metadata": {},
   "outputs": [
    {
     "data": {
      "text/plain": [
       "4"
      ]
     },
     "execution_count": 63,
     "metadata": {},
     "output_type": "execute_result"
    }
   ],
   "source": [
    "a"
   ]
  },
  {
   "cell_type": "code",
   "execution_count": 64,
   "id": "10c7c82a",
   "metadata": {},
   "outputs": [
    {
     "data": {
      "text/plain": [
       "'o'"
      ]
     },
     "execution_count": 64,
     "metadata": {},
     "output_type": "execute_result"
    }
   ],
   "source": [
    "mystring = \"Hello\"\n",
    "mystring[4]"
   ]
  },
  {
   "cell_type": "code",
   "execution_count": 68,
   "id": "91ceb931",
   "metadata": {},
   "outputs": [
    {
     "ename": "TypeError",
     "evalue": "'str' object does not support item assignment",
     "output_type": "error",
     "traceback": [
      "\u001b[1;31m---------------------------------------------------------------------------\u001b[0m",
      "\u001b[1;31mTypeError\u001b[0m                                 Traceback (most recent call last)",
      "Cell \u001b[1;32mIn[68], line 1\u001b[0m\n\u001b[1;32m----> 1\u001b[0m \u001b[43mmystring\u001b[49m\u001b[43m[\u001b[49m\u001b[38;5;241;43m4\u001b[39;49m\u001b[43m]\u001b[49m \u001b[38;5;241m=\u001b[39m \u001b[38;5;124m'\u001b[39m\u001b[38;5;124m'\u001b[39m    \u001b[38;5;66;03m# 문자열도 요소값을 변경할 수 없음\u001b[39;00m\n",
      "\u001b[1;31mTypeError\u001b[0m: 'str' object does not support item assignment"
     ]
    }
   ],
   "source": [
    "mystring[4] = ''    # 문자열도 요소값을 변경할 수 없음"
   ]
  },
  {
   "cell_type": "markdown",
   "id": "d121a8c5",
   "metadata": {},
   "source": [
    "#### 리스트"
   ]
  },
  {
   "cell_type": "code",
   "execution_count": 70,
   "id": "40b86fe8",
   "metadata": {},
   "outputs": [],
   "source": [
    "list1 = [1,2,3,4,5]\n",
    "list2 = [1,3,5] + [7, 9]\n",
    "list3 = list(list1)"
   ]
  },
  {
   "cell_type": "code",
   "execution_count": 71,
   "id": "cd305714",
   "metadata": {},
   "outputs": [
    {
     "data": {
      "text/plain": [
       "[1, 2, 3, 4, 5]"
      ]
     },
     "execution_count": 71,
     "metadata": {},
     "output_type": "execute_result"
    }
   ],
   "source": [
    "list1"
   ]
  },
  {
   "cell_type": "code",
   "execution_count": 72,
   "id": "9f65445a",
   "metadata": {},
   "outputs": [
    {
     "data": {
      "text/plain": [
       "[1, 3, 5, 7, 9]"
      ]
     },
     "execution_count": 72,
     "metadata": {},
     "output_type": "execute_result"
    }
   ],
   "source": [
    "list2"
   ]
  },
  {
   "cell_type": "code",
   "execution_count": 73,
   "id": "44733526",
   "metadata": {},
   "outputs": [
    {
     "data": {
      "text/plain": [
       "[1, 2, 3, 4, 5]"
      ]
     },
     "execution_count": 73,
     "metadata": {},
     "output_type": "execute_result"
    }
   ],
   "source": [
    "list3"
   ]
  },
  {
   "cell_type": "code",
   "execution_count": 75,
   "id": "d4455820",
   "metadata": {},
   "outputs": [],
   "source": [
    "nlist2 = list(ntuple)"
   ]
  },
  {
   "cell_type": "code",
   "execution_count": 77,
   "id": "78770b43",
   "metadata": {},
   "outputs": [],
   "source": [
    "nlist2[4] = 11"
   ]
  },
  {
   "cell_type": "code",
   "execution_count": 78,
   "id": "373aa3b4",
   "metadata": {},
   "outputs": [
    {
     "data": {
      "text/plain": [
       "[1, 3, 5, 7, 11]"
      ]
     },
     "execution_count": 78,
     "metadata": {},
     "output_type": "execute_result"
    }
   ],
   "source": [
    "nlist2"
   ]
  },
  {
   "cell_type": "code",
   "execution_count": 79,
   "id": "fbac22e2",
   "metadata": {},
   "outputs": [
    {
     "data": {
      "text/plain": [
       "(1, 3, 5, 7, 11)"
      ]
     },
     "execution_count": 79,
     "metadata": {},
     "output_type": "execute_result"
    }
   ],
   "source": [
    "tuple(nlist2)"
   ]
  },
  {
   "cell_type": "code",
   "execution_count": 80,
   "id": "fc8dd1e5",
   "metadata": {},
   "outputs": [],
   "source": [
    "list4 = [1, 2, 4]"
   ]
  },
  {
   "cell_type": "code",
   "execution_count": 81,
   "id": "e08e7dab",
   "metadata": {},
   "outputs": [],
   "source": [
    "list4.append(6)"
   ]
  },
  {
   "cell_type": "code",
   "execution_count": 82,
   "id": "1e540eb8",
   "metadata": {},
   "outputs": [
    {
     "data": {
      "text/plain": [
       "[1, 2, 4, 6]"
      ]
     },
     "execution_count": 82,
     "metadata": {},
     "output_type": "execute_result"
    }
   ],
   "source": [
    "list4"
   ]
  },
  {
   "cell_type": "code",
   "execution_count": 83,
   "id": "f5377e78",
   "metadata": {},
   "outputs": [],
   "source": [
    "del list4[1]"
   ]
  },
  {
   "cell_type": "code",
   "execution_count": 84,
   "id": "49365c93",
   "metadata": {},
   "outputs": [
    {
     "data": {
      "text/plain": [
       "[1, 4, 6]"
      ]
     },
     "execution_count": 84,
     "metadata": {},
     "output_type": "execute_result"
    }
   ],
   "source": [
    "list4"
   ]
  },
  {
   "cell_type": "code",
   "execution_count": 85,
   "id": "11ebd48d",
   "metadata": {},
   "outputs": [
    {
     "data": {
      "text/plain": [
       "[1, 3]"
      ]
     },
     "execution_count": 85,
     "metadata": {},
     "output_type": "execute_result"
    }
   ],
   "source": [
    "## 슬라이싱\n",
    "list2[0:2]"
   ]
  },
  {
   "cell_type": "code",
   "execution_count": 86,
   "id": "1f05729e",
   "metadata": {},
   "outputs": [
    {
     "data": {
      "text/plain": [
       "list[slice(2, None, None)]"
      ]
     },
     "execution_count": 86,
     "metadata": {},
     "output_type": "execute_result"
    }
   ],
   "source": [
    "list[2:]"
   ]
  },
  {
   "cell_type": "code",
   "execution_count": 89,
   "id": "ad1c1529",
   "metadata": {},
   "outputs": [
    {
     "data": {
      "text/plain": [
       "[5]"
      ]
     },
     "execution_count": 89,
     "metadata": {},
     "output_type": "execute_result"
    }
   ],
   "source": [
    "list2[2:3]  # 슬라이싱"
   ]
  },
  {
   "cell_type": "code",
   "execution_count": 87,
   "id": "6b4090bd",
   "metadata": {},
   "outputs": [
    {
     "data": {
      "text/plain": [
       "[3, 5]"
      ]
     },
     "execution_count": 87,
     "metadata": {},
     "output_type": "execute_result"
    }
   ],
   "source": [
    "list2[-4:-2]"
   ]
  },
  {
   "cell_type": "markdown",
   "id": "0197655b",
   "metadata": {},
   "source": [
    "리스트 컴프리헨션"
   ]
  },
  {
   "cell_type": "code",
   "execution_count": 91,
   "id": "70b51a39",
   "metadata": {},
   "outputs": [],
   "source": [
    "numbers = [x for x in range(21)]"
   ]
  },
  {
   "cell_type": "code",
   "execution_count": 92,
   "id": "2bca543e",
   "metadata": {},
   "outputs": [
    {
     "data": {
      "text/plain": [
       "[0, 1, 2, 3, 4, 5, 6, 7, 8, 9, 10, 11, 12, 13, 14, 15, 16, 17, 18, 19, 20]"
      ]
     },
     "execution_count": 92,
     "metadata": {},
     "output_type": "execute_result"
    }
   ],
   "source": [
    "numbers"
   ]
  },
  {
   "cell_type": "code",
   "execution_count": 93,
   "id": "b4657704",
   "metadata": {},
   "outputs": [
    {
     "data": {
      "text/plain": [
       "[(0, 0), (0, 1), (0, 2), (1, 0), (1, 1), (1, 2)]"
      ]
     },
     "execution_count": 93,
     "metadata": {},
     "output_type": "execute_result"
    }
   ],
   "source": [
    "cartesian_product = [(x, y) for x in range(2) for y in range(3)]\n",
    "cartesian_product"
   ]
  },
  {
   "cell_type": "code",
   "execution_count": 94,
   "id": "d6d4e888",
   "metadata": {},
   "outputs": [],
   "source": [
    "# 함수가 포함된 리스트 컴프리헨션\n",
    "def square(x):\n",
    "    return x * x"
   ]
  },
  {
   "cell_type": "code",
   "execution_count": 95,
   "id": "98344c17",
   "metadata": {},
   "outputs": [
    {
     "data": {
      "text/plain": [
       "[0, 1, 4, 9, 16]"
      ]
     },
     "execution_count": 95,
     "metadata": {},
     "output_type": "execute_result"
    }
   ],
   "source": [
    "squares = [square(x) for x in range(5)]\n",
    "squares"
   ]
  },
  {
   "cell_type": "code",
   "execution_count": 96,
   "id": "4961e3ab",
   "metadata": {},
   "outputs": [
    {
     "data": {
      "text/plain": [
       "[0, 1, 4, 9, 16]"
      ]
     },
     "execution_count": 96,
     "metadata": {},
     "output_type": "execute_result"
    }
   ],
   "source": [
    "squares2 = list(map(lambda x: x*x, range(5)))\n",
    "squares2"
   ]
  },
  {
   "cell_type": "code",
   "execution_count": 97,
   "id": "5098f232",
   "metadata": {},
   "outputs": [
    {
     "data": {
      "text/plain": [
       "[2, 4, 6, 8, 10]"
      ]
     },
     "execution_count": 97,
     "metadata": {},
     "output_type": "execute_result"
    }
   ],
   "source": [
    "# 조건문\n",
    "even_numbers = [x for x in range(1, 11) if x % 2 == 0]\n",
    "even_numbers"
   ]
  },
  {
   "cell_type": "code",
   "execution_count": 98,
   "id": "060e1733",
   "metadata": {},
   "outputs": [
    {
     "data": {
      "text/plain": [
       "[-1, 2, -3, 4, -5, 6, -7, 8, -9, 10]"
      ]
     },
     "execution_count": 98,
     "metadata": {},
     "output_type": "execute_result"
    }
   ],
   "source": [
    "wierd_numbers = [x if x % 2 == 0 else -x for x in range(1, 11)]\n",
    "wierd_numbers"
   ]
  },
  {
   "cell_type": "markdown",
   "id": "fa5ab3e9",
   "metadata": {},
   "source": [
    "#### 딕셔너리\n",
    "- key와 value의 쌍을 저장하는 해시 테이블"
   ]
  },
  {
   "cell_type": "code",
   "execution_count": 101,
   "id": "6d7ffb8b",
   "metadata": {},
   "outputs": [],
   "source": [
    "dict1 = {}"
   ]
  },
  {
   "cell_type": "code",
   "execution_count": 102,
   "id": "d64d7ce5",
   "metadata": {},
   "outputs": [],
   "source": [
    "dict1['apple'] = 1"
   ]
  },
  {
   "cell_type": "code",
   "execution_count": 103,
   "id": "a5951606",
   "metadata": {},
   "outputs": [],
   "source": [
    "dict1['samsung'] = 2\n",
    "dict1['lg'] = 3"
   ]
  },
  {
   "cell_type": "code",
   "execution_count": 104,
   "id": "66e2d0fa",
   "metadata": {},
   "outputs": [
    {
     "data": {
      "text/plain": [
       "{'apple': 1, 'samsung': 2, 'lg': 3}"
      ]
     },
     "execution_count": 104,
     "metadata": {},
     "output_type": "execute_result"
    }
   ],
   "source": [
    "dict1"
   ]
  },
  {
   "cell_type": "code",
   "execution_count": 105,
   "id": "cb9774e2",
   "metadata": {},
   "outputs": [
    {
     "name": "stdout",
     "output_type": "stream",
     "text": [
      "apple:1\n"
     ]
    }
   ],
   "source": [
    "key = 'apple'\n",
    "if key in dict1:\n",
    "    value = dict1[key]\n",
    "    print(f'{key}:{value}')\n",
    "else:\n",
    "    print(f'{key} doesnt exist')"
   ]
  },
  {
   "cell_type": "code",
   "execution_count": 106,
   "id": "e4ddb323",
   "metadata": {},
   "outputs": [],
   "source": [
    "dict1['lg'] = 4"
   ]
  },
  {
   "cell_type": "code",
   "execution_count": 107,
   "id": "5e566b55",
   "metadata": {},
   "outputs": [],
   "source": [
    "del dict1['lg']"
   ]
  },
  {
   "cell_type": "code",
   "execution_count": 108,
   "id": "1998bead",
   "metadata": {},
   "outputs": [
    {
     "data": {
      "text/plain": [
       "{'apple': 1, 'samsung': 2}"
      ]
     },
     "execution_count": 108,
     "metadata": {},
     "output_type": "execute_result"
    }
   ],
   "source": [
    "dict1"
   ]
  },
  {
   "cell_type": "markdown",
   "id": "dac08617",
   "metadata": {},
   "source": [
    "#### 셋\n",
    "- 집합, 교집합, 합집합 등 가능"
   ]
  },
  {
   "cell_type": "code",
   "execution_count": 109,
   "id": "d71fea31",
   "metadata": {},
   "outputs": [
    {
     "data": {
      "text/plain": [
       "set()"
      ]
     },
     "execution_count": 109,
     "metadata": {},
     "output_type": "execute_result"
    }
   ],
   "source": [
    "# 초기화\n",
    "empty_set = set()\n",
    "empty_set"
   ]
  },
  {
   "cell_type": "code",
   "execution_count": 110,
   "id": "8667e53f",
   "metadata": {},
   "outputs": [
    {
     "data": {
      "text/plain": [
       "{1, 2, 3, 5}"
      ]
     },
     "execution_count": 110,
     "metadata": {},
     "output_type": "execute_result"
    }
   ],
   "source": [
    "set([1, 2, 3, 5, 3, 3, 2])  # 집합은 중복제거"
   ]
  },
  {
   "cell_type": "code",
   "execution_count": 112,
   "id": "30a7d3a6",
   "metadata": {},
   "outputs": [
    {
     "data": {
      "text/plain": [
       "{1, 7, 12, 14}"
      ]
     },
     "execution_count": 112,
     "metadata": {},
     "output_type": "execute_result"
    }
   ],
   "source": [
    "set1 = {12, 14, 1, 7, 1}\n",
    "set1"
   ]
  },
  {
   "cell_type": "code",
   "execution_count": 113,
   "id": "d8b88c07",
   "metadata": {},
   "outputs": [
    {
     "data": {
      "text/plain": [
       "{' ', 'd', 'e', 'h', 'l', 'o', 'r', 'w'}"
      ]
     },
     "execution_count": 113,
     "metadata": {},
     "output_type": "execute_result"
    }
   ],
   "source": [
    "set2 = set(\"hello world\")\n",
    "set2 # ASCII 알파벳 오름차순으로 출력"
   ]
  },
  {
   "cell_type": "code",
   "execution_count": 114,
   "id": "add3612e",
   "metadata": {},
   "outputs": [
    {
     "data": {
      "text/plain": [
       "{2, 4, 6, 8, 10}"
      ]
     },
     "execution_count": 114,
     "metadata": {},
     "output_type": "execute_result"
    }
   ],
   "source": [
    "# Set Comprihension\n",
    "compri_set = {x for x in range(1, 11) if x % 2 == 0}\n",
    "compri_set"
   ]
  },
  {
   "cell_type": "code",
   "execution_count": 115,
   "id": "9749904c",
   "metadata": {},
   "outputs": [],
   "source": [
    "set3 = {1, 3, 5}"
   ]
  },
  {
   "cell_type": "code",
   "execution_count": 116,
   "id": "2753e23e",
   "metadata": {},
   "outputs": [],
   "source": [
    "set3.add(7)"
   ]
  },
  {
   "cell_type": "code",
   "execution_count": 117,
   "id": "2efe20c3",
   "metadata": {},
   "outputs": [
    {
     "data": {
      "text/plain": [
       "{1, 3, 5, 7}"
      ]
     },
     "execution_count": 117,
     "metadata": {},
     "output_type": "execute_result"
    }
   ],
   "source": [
    "set3"
   ]
  },
  {
   "cell_type": "code",
   "execution_count": 118,
   "id": "871b8e34",
   "metadata": {},
   "outputs": [],
   "source": [
    "set3.add(3)"
   ]
  },
  {
   "cell_type": "code",
   "execution_count": 119,
   "id": "2117e0ea",
   "metadata": {},
   "outputs": [
    {
     "data": {
      "text/plain": [
       "{1, 3, 5, 7}"
      ]
     },
     "execution_count": 119,
     "metadata": {},
     "output_type": "execute_result"
    }
   ],
   "source": [
    "set3"
   ]
  },
  {
   "cell_type": "code",
   "execution_count": 121,
   "id": "f02edbc3",
   "metadata": {},
   "outputs": [],
   "source": [
    "set3.update([9, 11, 1])"
   ]
  },
  {
   "cell_type": "code",
   "execution_count": 122,
   "id": "fd7cf383",
   "metadata": {},
   "outputs": [
    {
     "data": {
      "text/plain": [
       "{1, 3, 5, 7, 9, 11}"
      ]
     },
     "execution_count": 122,
     "metadata": {},
     "output_type": "execute_result"
    }
   ],
   "source": [
    "set3"
   ]
  },
  {
   "cell_type": "code",
   "execution_count": 123,
   "id": "43b5f426",
   "metadata": {},
   "outputs": [],
   "source": [
    "set3.remove(11)"
   ]
  },
  {
   "cell_type": "code",
   "execution_count": 124,
   "id": "5d3a178a",
   "metadata": {},
   "outputs": [
    {
     "data": {
      "text/plain": [
       "{1, 3, 5, 7, 9}"
      ]
     },
     "execution_count": 124,
     "metadata": {},
     "output_type": "execute_result"
    }
   ],
   "source": [
    "set3"
   ]
  },
  {
   "cell_type": "code",
   "execution_count": 125,
   "id": "5d2e4301",
   "metadata": {},
   "outputs": [
    {
     "ename": "KeyError",
     "evalue": "4",
     "output_type": "error",
     "traceback": [
      "\u001b[1;31m---------------------------------------------------------------------------\u001b[0m",
      "\u001b[1;31mKeyError\u001b[0m                                  Traceback (most recent call last)",
      "Cell \u001b[1;32mIn[125], line 1\u001b[0m\n\u001b[1;32m----> 1\u001b[0m \u001b[43mset3\u001b[49m\u001b[38;5;241;43m.\u001b[39;49m\u001b[43mremove\u001b[49m\u001b[43m(\u001b[49m\u001b[38;5;241;43m4\u001b[39;49m\u001b[43m)\u001b[49m\n",
      "\u001b[1;31mKeyError\u001b[0m: 4"
     ]
    }
   ],
   "source": [
    "set3.remove(4)"
   ]
  },
  {
   "cell_type": "code",
   "execution_count": 126,
   "id": "30272a9e",
   "metadata": {},
   "outputs": [],
   "source": [
    "set3.discard(4)"
   ]
  },
  {
   "cell_type": "code",
   "execution_count": 128,
   "id": "5870e8be",
   "metadata": {},
   "outputs": [],
   "source": [
    "set3.clear()"
   ]
  },
  {
   "cell_type": "code",
   "execution_count": 129,
   "id": "105f1276",
   "metadata": {},
   "outputs": [
    {
     "data": {
      "text/plain": [
       "set()"
      ]
     },
     "execution_count": 129,
     "metadata": {},
     "output_type": "execute_result"
    }
   ],
   "source": [
    "set3"
   ]
  },
  {
   "cell_type": "markdown",
   "id": "c121b80c",
   "metadata": {},
   "source": [
    "#### 합집합"
   ]
  },
  {
   "cell_type": "code",
   "execution_count": 130,
   "id": "8328d2e9",
   "metadata": {},
   "outputs": [],
   "source": [
    "set4 = {1, 2, 3}\n",
    "set5 = {3, 4, 5}"
   ]
  },
  {
   "cell_type": "code",
   "execution_count": 131,
   "id": "ec18b979",
   "metadata": {},
   "outputs": [
    {
     "data": {
      "text/plain": [
       "{1, 2, 3, 4, 5}"
      ]
     },
     "execution_count": 131,
     "metadata": {},
     "output_type": "execute_result"
    }
   ],
   "source": [
    "union_set = set4.union(set5)\n",
    "union_set"
   ]
  },
  {
   "cell_type": "code",
   "execution_count": 132,
   "id": "6d35b455",
   "metadata": {},
   "outputs": [],
   "source": [
    "set4 |= set5"
   ]
  },
  {
   "cell_type": "code",
   "execution_count": 133,
   "id": "e7c70267",
   "metadata": {},
   "outputs": [
    {
     "data": {
      "text/plain": [
       "{1, 2, 3, 4, 5}"
      ]
     },
     "execution_count": 133,
     "metadata": {},
     "output_type": "execute_result"
    }
   ],
   "source": [
    "set4"
   ]
  },
  {
   "cell_type": "markdown",
   "id": "eeba33ca",
   "metadata": {},
   "source": [
    "#### 교집합"
   ]
  },
  {
   "cell_type": "code",
   "execution_count": 134,
   "id": "004878f1",
   "metadata": {},
   "outputs": [],
   "source": [
    "set4 = {1, 2, 3}\n",
    "set5 = {3, 4, 5}"
   ]
  },
  {
   "cell_type": "code",
   "execution_count": 135,
   "id": "9ba0a2cc",
   "metadata": {},
   "outputs": [
    {
     "data": {
      "text/plain": [
       "{3}"
      ]
     },
     "execution_count": 135,
     "metadata": {},
     "output_type": "execute_result"
    }
   ],
   "source": [
    "intersection_set = set4.intersection(set5)\n",
    "intersection_set"
   ]
  },
  {
   "cell_type": "markdown",
   "id": "8f8e2941",
   "metadata": {},
   "source": [
    "#### 차집합"
   ]
  },
  {
   "cell_type": "code",
   "execution_count": 136,
   "id": "e6b3753f",
   "metadata": {},
   "outputs": [],
   "source": [
    "set4 = {1, 2, 3}\n",
    "set5 = {3, 4, 5}"
   ]
  },
  {
   "cell_type": "code",
   "execution_count": 137,
   "id": "3a7d7318",
   "metadata": {},
   "outputs": [
    {
     "data": {
      "text/plain": [
       "{1, 2}"
      ]
     },
     "execution_count": 137,
     "metadata": {},
     "output_type": "execute_result"
    }
   ],
   "source": [
    "difference_set = set4.difference(set5)\n",
    "difference_set"
   ]
  },
  {
   "cell_type": "markdown",
   "id": "c27ff04e",
   "metadata": {},
   "source": [
    "#### 튜플"
   ]
  },
  {
   "cell_type": "code",
   "execution_count": 138,
   "id": "5abac4e8",
   "metadata": {},
   "outputs": [],
   "source": [
    "tuple7 = (1, 2, 3)"
   ]
  },
  {
   "cell_type": "code",
   "execution_count": 139,
   "id": "9e80ab71",
   "metadata": {},
   "outputs": [
    {
     "data": {
      "text/plain": [
       "3"
      ]
     },
     "execution_count": 139,
     "metadata": {},
     "output_type": "execute_result"
    }
   ],
   "source": [
    "tuple7[2]"
   ]
  },
  {
   "cell_type": "markdown",
   "id": "8bc738f5",
   "metadata": {},
   "source": [
    "#### 문자열"
   ]
  },
  {
   "cell_type": "code",
   "execution_count": 140,
   "id": "bee9c2e8",
   "metadata": {},
   "outputs": [],
   "source": [
    "string1 = \"Hello World\"\n",
    "string2 = 'Hello World'"
   ]
  },
  {
   "cell_type": "code",
   "execution_count": 141,
   "id": "bdc29ad1",
   "metadata": {},
   "outputs": [
    {
     "data": {
      "text/plain": [
       "'Hello'"
      ]
     },
     "execution_count": 141,
     "metadata": {},
     "output_type": "execute_result"
    }
   ],
   "source": [
    "string3 = \"He\"\n",
    "string3 += \"llo\"\n",
    "string3"
   ]
  },
  {
   "cell_type": "code",
   "execution_count": 144,
   "id": "d501178c",
   "metadata": {},
   "outputs": [
    {
     "data": {
      "text/plain": [
       "'Hello'"
      ]
     },
     "execution_count": 144,
     "metadata": {},
     "output_type": "execute_result"
    }
   ],
   "source": [
    "string_list = ['He', 'llo']\n",
    "''.join(string_list)"
   ]
  },
  {
   "cell_type": "code",
   "execution_count": 145,
   "id": "46a64734",
   "metadata": {},
   "outputs": [
    {
     "data": {
      "text/plain": [
       "'He  o Wor d'"
      ]
     },
     "execution_count": 145,
     "metadata": {},
     "output_type": "execute_result"
    }
   ],
   "source": [
    "string2.replace('l', ' ')"
   ]
  },
  {
   "cell_type": "markdown",
   "id": "42235681",
   "metadata": {},
   "source": [
    "## 함수\n",
    "\n",
    "### 함수 정의"
   ]
  },
  {
   "cell_type": "code",
   "execution_count": 146,
   "id": "c7d3cb07",
   "metadata": {},
   "outputs": [],
   "source": [
    "def function_name(param1, param2, param3):\n",
    "    # logic / 없을 경우 pass\n",
    "    return "
   ]
  },
  {
   "cell_type": "markdown",
   "id": "3ae5e7b0",
   "metadata": {},
   "source": [
    "#### 람다식"
   ]
  },
  {
   "cell_type": "code",
   "execution_count": 147,
   "id": "88d33589",
   "metadata": {},
   "outputs": [
    {
     "data": {
      "text/plain": [
       "30"
      ]
     },
     "execution_count": 147,
     "metadata": {},
     "output_type": "execute_result"
    }
   ],
   "source": [
    "multi = lambda x, y : x * y\n",
    "multi(5, 6)"
   ]
  },
  {
   "cell_type": "code",
   "execution_count": 148,
   "id": "4cadc1e6",
   "metadata": {},
   "outputs": [
    {
     "data": {
      "text/plain": [
       "[1, 2, 3, 4, 5]"
      ]
     },
     "execution_count": 148,
     "metadata": {},
     "output_type": "execute_result"
    }
   ],
   "source": [
    "nums = [x for x in range(1, 6)]\n",
    "nums"
   ]
  },
  {
   "cell_type": "code",
   "execution_count": 149,
   "id": "45f72300",
   "metadata": {},
   "outputs": [],
   "source": [
    "squares = list(map(lambda x : x * x, nums))"
   ]
  },
  {
   "cell_type": "code",
   "execution_count": 151,
   "id": "1a56259d",
   "metadata": {},
   "outputs": [
    {
     "data": {
      "text/plain": [
       "[1, 4, 9, 16, 25]"
      ]
     },
     "execution_count": 151,
     "metadata": {},
     "output_type": "execute_result"
    }
   ],
   "source": [
    "squares"
   ]
  },
  {
   "cell_type": "markdown",
   "id": "44c89b6f",
   "metadata": {},
   "source": [
    "## 코테 구현 노하우"
   ]
  },
  {
   "cell_type": "markdown",
   "id": "026d8e13",
   "metadata": {},
   "source": [
    "### 조기 반환"
   ]
  },
  {
   "cell_type": "code",
   "execution_count": 152,
   "id": "04a1bee0",
   "metadata": {},
   "outputs": [],
   "source": [
    "def total_price(quantitiy, price):\n",
    "    total = quantitiy * price\n",
    "    if total > 100:\n",
    "        return total * 0.9\n",
    "    \n",
    "    return total"
   ]
  },
  {
   "cell_type": "code",
   "execution_count": 153,
   "id": "73690308",
   "metadata": {},
   "outputs": [
    {
     "data": {
      "text/plain": [
       "98"
      ]
     },
     "execution_count": 153,
     "metadata": {},
     "output_type": "execute_result"
    }
   ],
   "source": [
    "total_price(2, 49)"
   ]
  },
  {
   "cell_type": "code",
   "execution_count": 154,
   "id": "b513d53a",
   "metadata": {},
   "outputs": [
    {
     "data": {
      "text/plain": [
       "180.0"
      ]
     },
     "execution_count": 154,
     "metadata": {},
     "output_type": "execute_result"
    }
   ],
   "source": [
    "total_price(4, 50)"
   ]
  },
  {
   "cell_type": "markdown",
   "id": "0884f042",
   "metadata": {},
   "source": [
    "### 보호구문\n",
    "- Validation check"
   ]
  },
  {
   "cell_type": "code",
   "execution_count": 156,
   "id": "380fce76",
   "metadata": {},
   "outputs": [],
   "source": [
    "def cal_avg(numbers):\n",
    "    if numbers is None:\n",
    "        return None     # 값이 없으면 예외처리, C 기법\n",
    "    \n",
    "    if not isinstance(numbers, list):   # 값이 리스트가 아니면 종료\n",
    "        return None\n",
    "    \n",
    "    if len(numbers) == 0:   # 값의 길이가  0이면 종료\n",
    "        return \n",
    "\n",
    "    total = sum(numbers)\n",
    "    average = total/len(numbers)\n",
    "    return average"
   ]
  },
  {
   "cell_type": "markdown",
   "id": "cfc63e43",
   "metadata": {},
   "source": [
    "- 코테 소스에는 최대한 예외처리 (try ~ except)를 사용하지 말것\n",
    "- 예외처리 구문에서 속도가 느려짐"
   ]
  },
  {
   "cell_type": "markdown",
   "id": "bf283128",
   "metadata": {},
   "source": [
    "### 합성 함수\n",
    "- 2개 이상의 함수를 활용하여 추가로 함수를 만드는 방법"
   ]
  },
  {
   "cell_type": "code",
   "execution_count": 158,
   "id": "7b551e5e",
   "metadata": {},
   "outputs": [],
   "source": [
    "def add_three(x):\n",
    "    return x + 3\n",
    "\n",
    "def square(x):\n",
    "    return x * x"
   ]
  },
  {
   "cell_type": "code",
   "execution_count": 159,
   "id": "63475b3c",
   "metadata": {},
   "outputs": [],
   "source": [
    "# 합성함수\n",
    "composed_function = lambda x : square(add_three(x))"
   ]
  },
  {
   "cell_type": "code",
   "execution_count": 162,
   "id": "fc197f2e",
   "metadata": {},
   "outputs": [
    {
     "data": {
      "text/plain": [
       "36"
      ]
     },
     "execution_count": 162,
     "metadata": {},
     "output_type": "execute_result"
    }
   ],
   "source": [
    "composed_function(3)    # (3 + 3)^2 = 36"
   ]
  }
 ],
 "metadata": {
  "kernelspec": {
   "display_name": "3.11.9",
   "language": "python",
   "name": "python3"
  },
  "language_info": {
   "codemirror_mode": {
    "name": "ipython",
    "version": 3
   },
   "file_extension": ".py",
   "mimetype": "text/x-python",
   "name": "python",
   "nbconvert_exporter": "python",
   "pygments_lexer": "ipython3",
   "version": "3.11.9"
  }
 },
 "nbformat": 4,
 "nbformat_minor": 5
}
