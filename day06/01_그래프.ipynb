{
 "cells": [
  {
   "cell_type": "markdown",
   "id": "254e57bd",
   "metadata": {},
   "source": [
    "## 그래프\n",
    "\n",
    "### 기본구현\n",
    "\n",
    "#### 깊이 우선 탐색(DFS)\n",
    "\n",
    "<img src=\"../image/ct0011.png\" width=\"400\">\n",
    "\n"
   ]
  },
  {
   "cell_type": "code",
   "execution_count": null,
   "id": "e39e658c",
   "metadata": {},
   "outputs": [],
   "source": [
    "# 재귀호출으로 구현\n",
    "# 딕셔너리로 인접리스트 생성\n",
    "graph = {\n",
    "    1: [4, 5],\n",
    "    2: [3],\n",
    "    3: [],\n",
    "    4: [2, 3],\n",
    "    5: [1, 4]    # 책 1이 빠졌음. 실행결과는 동일.\n",
    "}\n",
    "\n",
    "# 방문여부 표시하는 배열\n",
    "visited = [False] * (len(graph) + 1)  # 배열 인덱스 0때문에 한개더 많이 배열 생성\n",
    "\n",
    "def dfs(curr_node):    \n",
    "    # 현재노드 방문\n",
    "    visited[curr_node] = True\n",
    "    print(curr_node, end=\" \") # 한줄로 나오도록\n",
    "\n",
    "    # 현재노드와 인접한 노드 순회\n",
    "    for adj_node in graph[curr_node]:\n",
    "        if not visited[adj_node]:\n",
    "            dfs(adj_node)   # 재귀호출 --> 스택을 사용. 재귀호출이 종료되면 자동생성된 메모리상의 스택에서 자동 팝\n"
   ]
  },
  {
   "cell_type": "code",
   "execution_count": 21,
   "id": "deeadf82",
   "metadata": {},
   "outputs": [
    {
     "name": "stdout",
     "output_type": "stream",
     "text": [
      "1 4 2 3 5 "
     ]
    }
   ],
   "source": [
    "result = dfs(1)"
   ]
  },
  {
   "cell_type": "markdown",
   "id": "e6820a07",
   "metadata": {},
   "source": [
    "- 자료구조 알고리즘 과목에서 인접행렬에 스택을 직접구현 : 재귀호출보다 소스코드가 길다 "
   ]
  },
  {
   "cell_type": "markdown",
   "id": "bbbae462",
   "metadata": {},
   "source": [
    "#### 너비 우선 탐색(BFS)"
   ]
  },
  {
   "cell_type": "code",
   "execution_count": 22,
   "id": "802b5a8e",
   "metadata": {},
   "outputs": [],
   "source": [
    "from collections import deque\n",
    "\n",
    "# 딕셔너리로 인접리스트 생성\n",
    "graph = {\n",
    "    1: [4, 5],\n",
    "    2: [3],\n",
    "    3: [],\n",
    "    4: [2, 3],\n",
    "    5: [1, 4],\n",
    "}\n",
    "\n",
    "def bfs(start_node):\n",
    "    visited = [False] * (len(graph) + 1)  # 배열 인덱스 0때문에 한개더 많이 배열 생성\n",
    "\n",
    "    # 시작노드 방문처리\n",
    "    queue = deque([start_node])\n",
    "    visited[start_node] = True  # 방문처리1\n",
    "\n",
    "    while queue: # 큐가 완전히 empty가 될때까지\n",
    "        # 가장먼저 푸시(deQueue)된 노드 방문\n",
    "        node = queue.popleft() \n",
    "        print(node, end=' ')\n",
    "\n",
    "        # 인접노드 순회\n",
    "        for adj_node in graph[node]:  # 방문한 노드의 인접노드를 반복\n",
    "            if not visited[adj_node]:\n",
    "                queue.append(adj_node)  # 새로 방문한 노드를 큐에 삽입\n",
    "                visited[adj_node] = True  # 방문처리2"
   ]
  },
  {
   "cell_type": "code",
   "execution_count": 24,
   "id": "040dd1f2",
   "metadata": {},
   "outputs": [
    {
     "name": "stdout",
     "output_type": "stream",
     "text": [
      "1 4 5 2 3 "
     ]
    }
   ],
   "source": [
    "bfs(1)"
   ]
  },
  {
   "cell_type": "markdown",
   "id": "aedf3df8",
   "metadata": {},
   "source": [
    "### 몸풀기 문제\n",
    "\n",
    "#### 다익스트라 알고리즘"
   ]
  },
  {
   "cell_type": "code",
   "execution_count": 59,
   "id": "64733f46",
   "metadata": {},
   "outputs": [],
   "source": [
    "import heapq\n",
    "from collections import defaultdict\n",
    "\n",
    "INF = 9999999999  # 엄청 큰수로 무한대 표시\n",
    "\n",
    "def solution(start, num_nodes, edges):\n",
    "    # 그래프 초기화\n",
    "    graph = defaultdict(list)\n",
    "    for from_node, to_node, weigth in edges:\n",
    "        graph[from_node].append((to_node, weigth))\n",
    "\n",
    "    # 최단 경로 길의 방문이력 최적화\n",
    "    distances = [INF] * num_nodes\n",
    "    visited = [False] * num_nodes\n",
    "    distances[start] = 0\n",
    "\n",
    "    # 우선순위 큐\n",
    "    queue = [(start,0)]   # 시작노드, 가중치\n",
    "\n",
    "    while queue:  # queue가 empty아닌 동안\n",
    "        # 현재 노드 찾기\n",
    "        cur_node, _ = heapq.heappop(queue)  # (0, 0)\n",
    "\n",
    "        # 이미 방문한 노드라면 패스\n",
    "        if visited[cur_node]:\n",
    "            continue\n",
    "    \n",
    "        # 현재 노드를 방문처리\n",
    "        visited[cur_node] = True\n",
    "\n",
    "        # 인접노드에 대한 거리 업데이트\n",
    "        for neighbor, weight in graph[cur_node]:\n",
    "            new_distance = distances[cur_node] + weight\n",
    "            if new_distance < distances[neighbor]:\n",
    "                distances[neighbor] = new_distance\n",
    "                heapq.heappush(queue, (neighbor, new_distance)) # 큐에 방문할 노드 추가       \n",
    "\n",
    "    return distances"
   ]
  },
  {
   "cell_type": "markdown",
   "id": "39a738f8",
   "metadata": {},
   "source": [
    "<img src=\"../image/ct0012.png\" width=\"350\">"
   ]
  },
  {
   "cell_type": "code",
   "execution_count": 60,
   "id": "7e2c7d73",
   "metadata": {},
   "outputs": [
    {
     "data": {
      "text/plain": [
       "[0, 4, 3]"
      ]
     },
     "execution_count": 60,
     "metadata": {},
     "output_type": "execute_result"
    }
   ],
   "source": [
    "solution(0, 3, [[0,1,9], [0,2,3], [1,0,5],[2,1,1]])"
   ]
  },
  {
   "cell_type": "markdown",
   "id": "cc8d2665",
   "metadata": {},
   "source": [
    "<img src=\"../image/ct0013.png\" width=\"350\">"
   ]
  },
  {
   "cell_type": "code",
   "execution_count": 54,
   "id": "9dd53954",
   "metadata": {},
   "outputs": [
    {
     "data": {
      "text/plain": [
       "[0, 1, 6, 7]"
      ]
     },
     "execution_count": 54,
     "metadata": {},
     "output_type": "execute_result"
    }
   ],
   "source": [
    "solution(0, 4, [[0,1,1], [1,2,5], [2,3,1]])"
   ]
  },
  {
   "cell_type": "markdown",
   "id": "3b960517",
   "metadata": {},
   "source": [
    "#### 벨만-포드 알고리즘\n",
    "\n",
    "<img src=\"../image/ct0014.png\" width=\"700\">"
   ]
  },
  {
   "cell_type": "code",
   "execution_count": 81,
   "id": "334512fe",
   "metadata": {},
   "outputs": [],
   "source": [
    "INF = 9999999999\n",
    "\n",
    "def solution(num_vertices, edges, source):\n",
    "    # 간선정보를 활용해서 인접리스트 생성\n",
    "    graph = [[] for _ in range(num_vertices)]\n",
    "    for edge in edges:\n",
    "        from_vtx, to_vtx, weight = edge\n",
    "        graph[from_vtx].append((to_vtx, weight))\n",
    "\n",
    "    # print(graph)\n",
    "\n",
    "    distances = [INF] * num_vertices\n",
    "    distances[source] = 0\n",
    "\n",
    "    # 정점개수 -1만큼 최소 비용 갱신\n",
    "    for _ in range(num_vertices - 1):\n",
    "        for u in range(num_vertices):\n",
    "            for v, weight in graph[u]:\n",
    "                if distances[u] + weight < distances[v]:\n",
    "                    distances[v] = distances[u] + weight\n",
    "\n",
    "    \n",
    "    # 음의 순환이 있는지 확인\n",
    "    for u in range(num_vertices):\n",
    "        for v, weight in graph[u]:\n",
    "            if distances[u] + weight < distances[v]:\n",
    "                return [-1]  # 순환이 마무리 되었는데 다시 반복을 또 값이 줄어는 것을 확인(음의 순환!)\n",
    "\n",
    "    return distances"
   ]
  },
  {
   "cell_type": "code",
   "execution_count": 75,
   "id": "264f7186",
   "metadata": {},
   "outputs": [
    {
     "data": {
      "text/plain": [
       "[0, -2, -4, 3, -6]"
      ]
     },
     "execution_count": 75,
     "metadata": {},
     "output_type": "execute_result"
    }
   ],
   "source": [
    "# [0, -2, -4, 3, -6]\n",
    "solution(5, [[0,1,4],[0,2,3],[0,4,-6],[1,3,5],[2,1,2],[3,0,7],[3,2,4],[4,2,2]], 0)"
   ]
  },
  {
   "cell_type": "code",
   "execution_count": 82,
   "id": "2ab3f5c5",
   "metadata": {},
   "outputs": [
    {
     "data": {
      "text/plain": [
       "[-1]"
      ]
     },
     "execution_count": 82,
     "metadata": {},
     "output_type": "execute_result"
    }
   ],
   "source": [
    "# -1\n",
    "solution(4, [[0,1,5],[0,2,-1],[1,2,2],[2,3,-2],[3,0,2],[3,1,6]], 0)"
   ]
  },
  {
   "cell_type": "markdown",
   "id": "97032fc5",
   "metadata": {},
   "source": [
    "- BFS/DFS는 거의 그래프 그림이 존재\n",
    "- 가중치가 있고 최소비용 -> 다익스트라\n",
    "- 음수가 있으면 벨만포드 "
   ]
  }
 ],
 "metadata": {
  "kernelspec": {
   "display_name": "3.11.9",
   "language": "python",
   "name": "python3"
  },
  "language_info": {
   "codemirror_mode": {
    "name": "ipython",
    "version": 3
   },
   "file_extension": ".py",
   "mimetype": "text/x-python",
   "name": "python",
   "nbconvert_exporter": "python",
   "pygments_lexer": "ipython3",
   "version": "3.11.9"
  }
 },
 "nbformat": 4,
 "nbformat_minor": 5
}
